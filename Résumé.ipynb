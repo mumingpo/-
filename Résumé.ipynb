{
 "cells": [
  {
   "cell_type": "code",
   "execution_count": 4,
   "metadata": {
    "scrolled": true
   },
   "outputs": [
    {
     "data": {
      "text/html": [
       "<style>\n",
       "  div.input {display:none;}\n",
       "  table {margin-left: 0 !important;}\n",
       "</style>"
      ],
      "text/plain": [
       "<IPython.core.display.HTML object>"
      ]
     },
     "metadata": {},
     "output_type": "display_data"
    }
   ],
   "source": [
    "%%html\n",
    "<style>\n",
    "  div.input {display:none;}\n",
    "  table {margin-left: 0 !important;}\n",
    "</style>"
   ]
  },
  {
   "cell_type": "markdown",
   "metadata": {},
   "source": [
    "# Zixian \"Steven\" Qiu"
   ]
  },
  {
   "cell_type": "markdown",
   "metadata": {},
   "source": [
    "&nbsp;&nbsp;&nbsp;&nbsp;&nbsp;__internship résumé, 2018 Summer__\n",
    "\n",
    "----"
   ]
  },
  {
   "cell_type": "markdown",
   "metadata": {},
   "source": [
    "## Purpose"
   ]
  },
  {
   "cell_type": "markdown",
   "metadata": {},
   "source": [
    "To experience software engineering in a collaborative environment, to improve programming and organization ability, and to solidify knowledge into applicable skills.\n",
    "\n",
    "----"
   ]
  },
  {
   "cell_type": "markdown",
   "metadata": {},
   "source": [
    "## Education"
   ]
  },
  {
   "cell_type": "markdown",
   "metadata": {},
   "source": [
    "|Institution|Degree|Year|\n",
    "|-----------|------|----|\n",
    "|  Middlesex Community College  |  A.A. in Liberal Arts  |  2015 - 2018  |\n",
    "|  UMass Amherst  |  B.A. in Computer Science  |  2018 -  |\n",
    "\n",
    "Family circumstances during the year 2016 and 2017 prevented the completion of A.A. in 2 years.\n",
    "\n",
    "Despite having taken programming classes in academic settings, my programming experience primarily comes from independent learning and working on self-improvised projects.\n",
    "\n",
    "----"
   ]
  },
  {
   "cell_type": "markdown",
   "metadata": {},
   "source": [
    "## Demographic Information"
   ]
  },
  {
   "cell_type": "markdown",
   "metadata": {},
   "source": [
    "* Chinese male, born December, 1996.\n",
    "* Citizenship: China. Legal permanent resident in U.S.\n",
    "* Do not require sponsorship to work in U.S.\n",
    "\n",
    "----"
   ]
  },
  {
   "cell_type": "markdown",
   "metadata": {},
   "source": [
    "## Skills"
   ]
  },
  {
   "cell_type": "markdown",
   "metadata": {},
   "source": [
    "* Programs in Python, C++, and Java. Have worked with HTML, jQuery, and CSS.\n",
    "* Bilingual between Chinese and English, studied Latin, German, and Japanese.\n",
    "* Strong ability to learn independently or with guidance. Willing to devote personal time to develop skills.\n",
    "* Strong work ethics motivated by desire to learn.\n",
    "\n",
    "----"
   ]
  },
  {
   "cell_type": "markdown",
   "metadata": {},
   "source": [
    "## Sample Projects"
   ]
  },
  {
   "cell_type": "markdown",
   "metadata": {},
   "source": [
    "### [Tic-tac-toe](//github.com/mumingpo/tic-tac-toe)\n",
    "\n",
    "Experiments on building a primitive machine learning framework. \n",
    "\n",
    "### [Bancrawler](//github.com/mumingpo/bancrawler/tree/master/bancrawler)\n",
    "\n",
    "Data mining and analysis on the User Ban Log for an online forum using Scrapy library.\n",
    "\n",
    "### [Image Processing](//github.com/mumingpo/ImageProcessing)\n",
    "\n",
    "Attempts to manipulate images, contains:\n",
    "\n",
    "* Edge detection: using statistic methods and transformations to identify potential edges on an image. Currently suffer from a lack of optimization and context-awareness.\n",
    "\n",
    "* Dual display: exploiting the alpha channel in PNG's LA mode to make different image\n",
    "\n",
    "----"
   ]
  },
  {
   "cell_type": "markdown",
   "metadata": {},
   "source": [
    "## Contact"
   ]
  },
  {
   "cell_type": "markdown",
   "metadata": {},
   "source": [
    "Email (Preferred): [mumingpo@gmail.com](mailto:mumingpo@gmail.com)\n",
    "\n",
    "Phone: (508)271-5555 (cell)\n",
    "\n",
    "Address: 103 East Emerson Rd, Lexington, MA. 02420\n",
    "\n",
    "[GitHub homepage](//github.com/mumingpo/)"
   ]
  }
 ],
 "metadata": {
  "kernelspec": {
   "display_name": "Python 3",
   "language": "python",
   "name": "python3"
  },
  "language_info": {
   "codemirror_mode": {
    "name": "ipython",
    "version": 3
   },
   "file_extension": ".py",
   "mimetype": "text/x-python",
   "name": "python",
   "nbconvert_exporter": "python",
   "pygments_lexer": "ipython3",
   "version": "3.5.2"
  }
 },
 "nbformat": 4,
 "nbformat_minor": 2
}
